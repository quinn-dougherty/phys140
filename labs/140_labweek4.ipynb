{
  "nbformat": 4,
  "nbformat_minor": 0,
  "metadata": {
    "colab": {
      "name": "140-labweek4.ipynb",
      "provenance": []
    },
    "kernelspec": {
      "name": "python3",
      "display_name": "Python 3"
    }
  },
  "cells": [
    {
      "cell_type": "code",
      "metadata": {
        "id": "cG37PiIg3kTQ"
      },
      "source": [
        "from typing import Tuple\n",
        "import pandas as pd\n",
        "import numpy as np\n",
        "import altair as alt\n",
        "\n",
        "delta_t = 0.033\n",
        "\n",
        "def mkdf(delta_t: float) -> Tuple[pd.DataFrame, pd.DataFrame, pd.DataFrame]: \n",
        "  positions = pd.DataFrame({\n",
        "      \"t\": [0, 0.033, 0.066, 0.099, 0.133, 0.166, 0.199, 0.232, 0.265, 0.298],\n",
        "      \"s\": [0, 1.35,  3.8,   7.2,   11.8,  17.4,  24.1,  31.9,  40.7,  50.6]\n",
        "  })\n",
        "\n",
        "  velocity = pd.DataFrame({\n",
        "      \"delta_s\": [position.s[k+1] - position.s[k] for k in range(position.shape[0] - 1)]\n",
        "  })\n",
        "  velocity = velocity.assign(v=velocity.delta_s / delta_t)\n",
        "  \n",
        "  acceleration = pd.DataFrame({\n",
        "      \"delta_v\": [velocity.v[k+1] - velocity.v[k] for k in range(velocity.shape[0] - 1)]\n",
        "  })\n",
        "  acceleration = acceleration.assign(a=acceleration.delta_v / delta_t)\n",
        "  \n",
        "  return position, velocity, acceleration"
      ],
      "execution_count": 34,
      "outputs": []
    },
    {
      "cell_type": "code",
      "metadata": {
        "id": "mRPMLNfc4JOw"
      },
      "source": [
        "position, velocity, acceleration = mkdf(delta_t)"
      ],
      "execution_count": 35,
      "outputs": []
    },
    {
      "cell_type": "code",
      "metadata": {
        "id": "3w7ihRx37G1A",
        "outputId": "7ca15527-54f5-43b5-8911-f2908b17e1d4",
        "colab": {
          "base_uri": "https://localhost:8080/",
          "height": 363
        }
      },
      "source": [
        "position"
      ],
      "execution_count": 43,
      "outputs": [
        {
          "output_type": "execute_result",
          "data": {
            "text/html": [
              "<div>\n",
              "<style scoped>\n",
              "    .dataframe tbody tr th:only-of-type {\n",
              "        vertical-align: middle;\n",
              "    }\n",
              "\n",
              "    .dataframe tbody tr th {\n",
              "        vertical-align: top;\n",
              "    }\n",
              "\n",
              "    .dataframe thead th {\n",
              "        text-align: right;\n",
              "    }\n",
              "</style>\n",
              "<table border=\"1\" class=\"dataframe\">\n",
              "  <thead>\n",
              "    <tr style=\"text-align: right;\">\n",
              "      <th></th>\n",
              "      <th>t</th>\n",
              "      <th>s</th>\n",
              "    </tr>\n",
              "  </thead>\n",
              "  <tbody>\n",
              "    <tr>\n",
              "      <th>0</th>\n",
              "      <td>0.000</td>\n",
              "      <td>0.00</td>\n",
              "    </tr>\n",
              "    <tr>\n",
              "      <th>1</th>\n",
              "      <td>0.033</td>\n",
              "      <td>1.35</td>\n",
              "    </tr>\n",
              "    <tr>\n",
              "      <th>2</th>\n",
              "      <td>0.066</td>\n",
              "      <td>3.80</td>\n",
              "    </tr>\n",
              "    <tr>\n",
              "      <th>3</th>\n",
              "      <td>0.099</td>\n",
              "      <td>7.20</td>\n",
              "    </tr>\n",
              "    <tr>\n",
              "      <th>4</th>\n",
              "      <td>0.133</td>\n",
              "      <td>11.80</td>\n",
              "    </tr>\n",
              "    <tr>\n",
              "      <th>5</th>\n",
              "      <td>0.166</td>\n",
              "      <td>17.40</td>\n",
              "    </tr>\n",
              "    <tr>\n",
              "      <th>6</th>\n",
              "      <td>0.199</td>\n",
              "      <td>24.10</td>\n",
              "    </tr>\n",
              "    <tr>\n",
              "      <th>7</th>\n",
              "      <td>0.232</td>\n",
              "      <td>31.90</td>\n",
              "    </tr>\n",
              "    <tr>\n",
              "      <th>8</th>\n",
              "      <td>0.265</td>\n",
              "      <td>40.70</td>\n",
              "    </tr>\n",
              "    <tr>\n",
              "      <th>9</th>\n",
              "      <td>0.298</td>\n",
              "      <td>50.60</td>\n",
              "    </tr>\n",
              "  </tbody>\n",
              "</table>\n",
              "</div>"
            ],
            "text/plain": [
              "       t      s\n",
              "0  0.000   0.00\n",
              "1  0.033   1.35\n",
              "2  0.066   3.80\n",
              "3  0.099   7.20\n",
              "4  0.133  11.80\n",
              "5  0.166  17.40\n",
              "6  0.199  24.10\n",
              "7  0.232  31.90\n",
              "8  0.265  40.70\n",
              "9  0.298  50.60"
            ]
          },
          "metadata": {
            "tags": []
          },
          "execution_count": 43
        }
      ]
    },
    {
      "cell_type": "code",
      "metadata": {
        "id": "2HeKQUZ76BRO",
        "outputId": "dec0694c-31b4-4f44-9828-a66ad99db286",
        "colab": {
          "base_uri": "https://localhost:8080/",
          "height": 332
        }
      },
      "source": [
        "velocity"
      ],
      "execution_count": 37,
      "outputs": [
        {
          "output_type": "execute_result",
          "data": {
            "text/html": [
              "<div>\n",
              "<style scoped>\n",
              "    .dataframe tbody tr th:only-of-type {\n",
              "        vertical-align: middle;\n",
              "    }\n",
              "\n",
              "    .dataframe tbody tr th {\n",
              "        vertical-align: top;\n",
              "    }\n",
              "\n",
              "    .dataframe thead th {\n",
              "        text-align: right;\n",
              "    }\n",
              "</style>\n",
              "<table border=\"1\" class=\"dataframe\">\n",
              "  <thead>\n",
              "    <tr style=\"text-align: right;\">\n",
              "      <th></th>\n",
              "      <th>delta_s</th>\n",
              "      <th>v</th>\n",
              "    </tr>\n",
              "  </thead>\n",
              "  <tbody>\n",
              "    <tr>\n",
              "      <th>0</th>\n",
              "      <td>1.35</td>\n",
              "      <td>40.909091</td>\n",
              "    </tr>\n",
              "    <tr>\n",
              "      <th>1</th>\n",
              "      <td>2.45</td>\n",
              "      <td>74.242424</td>\n",
              "    </tr>\n",
              "    <tr>\n",
              "      <th>2</th>\n",
              "      <td>3.40</td>\n",
              "      <td>103.030303</td>\n",
              "    </tr>\n",
              "    <tr>\n",
              "      <th>3</th>\n",
              "      <td>4.60</td>\n",
              "      <td>139.393939</td>\n",
              "    </tr>\n",
              "    <tr>\n",
              "      <th>4</th>\n",
              "      <td>5.60</td>\n",
              "      <td>169.696970</td>\n",
              "    </tr>\n",
              "    <tr>\n",
              "      <th>5</th>\n",
              "      <td>6.70</td>\n",
              "      <td>203.030303</td>\n",
              "    </tr>\n",
              "    <tr>\n",
              "      <th>6</th>\n",
              "      <td>7.80</td>\n",
              "      <td>236.363636</td>\n",
              "    </tr>\n",
              "    <tr>\n",
              "      <th>7</th>\n",
              "      <td>8.80</td>\n",
              "      <td>266.666667</td>\n",
              "    </tr>\n",
              "    <tr>\n",
              "      <th>8</th>\n",
              "      <td>9.90</td>\n",
              "      <td>300.000000</td>\n",
              "    </tr>\n",
              "  </tbody>\n",
              "</table>\n",
              "</div>"
            ],
            "text/plain": [
              "   delta_s           v\n",
              "0     1.35   40.909091\n",
              "1     2.45   74.242424\n",
              "2     3.40  103.030303\n",
              "3     4.60  139.393939\n",
              "4     5.60  169.696970\n",
              "5     6.70  203.030303\n",
              "6     7.80  236.363636\n",
              "7     8.80  266.666667\n",
              "8     9.90  300.000000"
            ]
          },
          "metadata": {
            "tags": []
          },
          "execution_count": 37
        }
      ]
    },
    {
      "cell_type": "code",
      "metadata": {
        "id": "JU3Ox7pN6Qkv",
        "outputId": "324bf5ab-7fcc-49ae-c06f-d54d18d517cd",
        "colab": {
          "base_uri": "https://localhost:8080/",
          "height": 300
        }
      },
      "source": [
        "acceleration"
      ],
      "execution_count": 38,
      "outputs": [
        {
          "output_type": "execute_result",
          "data": {
            "text/html": [
              "<div>\n",
              "<style scoped>\n",
              "    .dataframe tbody tr th:only-of-type {\n",
              "        vertical-align: middle;\n",
              "    }\n",
              "\n",
              "    .dataframe tbody tr th {\n",
              "        vertical-align: top;\n",
              "    }\n",
              "\n",
              "    .dataframe thead th {\n",
              "        text-align: right;\n",
              "    }\n",
              "</style>\n",
              "<table border=\"1\" class=\"dataframe\">\n",
              "  <thead>\n",
              "    <tr style=\"text-align: right;\">\n",
              "      <th></th>\n",
              "      <th>delta_v</th>\n",
              "      <th>a</th>\n",
              "    </tr>\n",
              "  </thead>\n",
              "  <tbody>\n",
              "    <tr>\n",
              "      <th>0</th>\n",
              "      <td>33.333333</td>\n",
              "      <td>1010.101010</td>\n",
              "    </tr>\n",
              "    <tr>\n",
              "      <th>1</th>\n",
              "      <td>28.787879</td>\n",
              "      <td>872.359963</td>\n",
              "    </tr>\n",
              "    <tr>\n",
              "      <th>2</th>\n",
              "      <td>36.363636</td>\n",
              "      <td>1101.928375</td>\n",
              "    </tr>\n",
              "    <tr>\n",
              "      <th>3</th>\n",
              "      <td>30.303030</td>\n",
              "      <td>918.273646</td>\n",
              "    </tr>\n",
              "    <tr>\n",
              "      <th>4</th>\n",
              "      <td>33.333333</td>\n",
              "      <td>1010.101010</td>\n",
              "    </tr>\n",
              "    <tr>\n",
              "      <th>5</th>\n",
              "      <td>33.333333</td>\n",
              "      <td>1010.101010</td>\n",
              "    </tr>\n",
              "    <tr>\n",
              "      <th>6</th>\n",
              "      <td>30.303030</td>\n",
              "      <td>918.273646</td>\n",
              "    </tr>\n",
              "    <tr>\n",
              "      <th>7</th>\n",
              "      <td>33.333333</td>\n",
              "      <td>1010.101010</td>\n",
              "    </tr>\n",
              "  </tbody>\n",
              "</table>\n",
              "</div>"
            ],
            "text/plain": [
              "     delta_v            a\n",
              "0  33.333333  1010.101010\n",
              "1  28.787879   872.359963\n",
              "2  36.363636  1101.928375\n",
              "3  30.303030   918.273646\n",
              "4  33.333333  1010.101010\n",
              "5  33.333333  1010.101010\n",
              "6  30.303030   918.273646\n",
              "7  33.333333  1010.101010"
            ]
          },
          "metadata": {
            "tags": []
          },
          "execution_count": 38
        }
      ]
    },
    {
      "cell_type": "code",
      "metadata": {
        "id": "wvFzSy2J65WV"
      },
      "source": [
        "avg_accel = acceleration.a.sum() / acceleration.shape[0]\n",
        "percent_error = abs(100 * (980 - avg_accel) / 980)"
      ],
      "execution_count": 39,
      "outputs": []
    },
    {
      "cell_type": "code",
      "metadata": {
        "id": "SBXRjImZ7n9B",
        "outputId": "38f47a19-4a7e-45c5-b44d-3ff5fb7ec72e",
        "colab": {
          "base_uri": "https://localhost:8080/",
          "height": 34
        }
      },
      "source": [
        "avg_accel"
      ],
      "execution_count": 40,
      "outputs": [
        {
          "output_type": "execute_result",
          "data": {
            "text/plain": [
              "981.4049586776857"
            ]
          },
          "metadata": {
            "tags": []
          },
          "execution_count": 40
        }
      ]
    },
    {
      "cell_type": "code",
      "metadata": {
        "id": "wdPmLzgd7ona",
        "outputId": "e44202f8-dbf7-449e-e15f-c60d3c7ef2be",
        "colab": {
          "base_uri": "https://localhost:8080/",
          "height": 34
        }
      },
      "source": [
        "percent_error"
      ],
      "execution_count": 44,
      "outputs": [
        {
          "output_type": "execute_result",
          "data": {
            "text/plain": [
              "0.14336313037609458"
            ]
          },
          "metadata": {
            "tags": []
          },
          "execution_count": 44
        }
      ]
    },
    {
      "cell_type": "code",
      "metadata": {
        "id": "7Xby6cQq7yA4",
        "outputId": "e90d7243-f87f-4155-d14e-3f2fa997fedf",
        "colab": {
          "base_uri": "https://localhost:8080/",
          "height": 369
        }
      },
      "source": [
        "alt.Chart(position).mark_line().encode(x=\"t\", y=\"s\")"
      ],
      "execution_count": 45,
      "outputs": [
        {
          "output_type": "execute_result",
          "data": {
            "text/plain": [
              "alt.Chart(...)"
            ],
            "text/html": [
              "\n",
              "<div id=\"altair-viz-e6dc5da0ae634f809aa318e257a8e764\"></div>\n",
              "<script type=\"text/javascript\">\n",
              "  (function(spec, embedOpt){\n",
              "    let outputDiv = document.currentScript.previousElementSibling;\n",
              "    if (outputDiv.id !== \"altair-viz-e6dc5da0ae634f809aa318e257a8e764\") {\n",
              "      outputDiv = document.getElementById(\"altair-viz-e6dc5da0ae634f809aa318e257a8e764\");\n",
              "    }\n",
              "    const paths = {\n",
              "      \"vega\": \"https://cdn.jsdelivr.net/npm//vega@5?noext\",\n",
              "      \"vega-lib\": \"https://cdn.jsdelivr.net/npm//vega-lib?noext\",\n",
              "      \"vega-lite\": \"https://cdn.jsdelivr.net/npm//vega-lite@4.8.1?noext\",\n",
              "      \"vega-embed\": \"https://cdn.jsdelivr.net/npm//vega-embed@6?noext\",\n",
              "    };\n",
              "\n",
              "    function loadScript(lib) {\n",
              "      return new Promise(function(resolve, reject) {\n",
              "        var s = document.createElement('script');\n",
              "        s.src = paths[lib];\n",
              "        s.async = true;\n",
              "        s.onload = () => resolve(paths[lib]);\n",
              "        s.onerror = () => reject(`Error loading script: ${paths[lib]}`);\n",
              "        document.getElementsByTagName(\"head\")[0].appendChild(s);\n",
              "      });\n",
              "    }\n",
              "\n",
              "    function showError(err) {\n",
              "      outputDiv.innerHTML = `<div class=\"error\" style=\"color:red;\">${err}</div>`;\n",
              "      throw err;\n",
              "    }\n",
              "\n",
              "    function displayChart(vegaEmbed) {\n",
              "      vegaEmbed(outputDiv, spec, embedOpt)\n",
              "        .catch(err => showError(`Javascript Error: ${err.message}<br>This usually means there's a typo in your chart specification. See the javascript console for the full traceback.`));\n",
              "    }\n",
              "\n",
              "    if(typeof define === \"function\" && define.amd) {\n",
              "      requirejs.config({paths});\n",
              "      require([\"vega-embed\"], displayChart, err => showError(`Error loading script: ${err.message}`));\n",
              "    } else if (typeof vegaEmbed === \"function\") {\n",
              "      displayChart(vegaEmbed);\n",
              "    } else {\n",
              "      loadScript(\"vega\")\n",
              "        .then(() => loadScript(\"vega-lite\"))\n",
              "        .then(() => loadScript(\"vega-embed\"))\n",
              "        .catch(showError)\n",
              "        .then(() => displayChart(vegaEmbed));\n",
              "    }\n",
              "  })({\"config\": {\"view\": {\"continuousWidth\": 400, \"continuousHeight\": 300}}, \"data\": {\"name\": \"data-40d0d4771f3cdfaa965ce7c3d3da7153\"}, \"mark\": \"line\", \"encoding\": {\"x\": {\"type\": \"quantitative\", \"field\": \"t\"}, \"y\": {\"type\": \"quantitative\", \"field\": \"s\"}}, \"$schema\": \"https://vega.github.io/schema/vega-lite/v4.8.1.json\", \"datasets\": {\"data-40d0d4771f3cdfaa965ce7c3d3da7153\": [{\"t\": 0.0, \"s\": 0.0}, {\"t\": 0.033, \"s\": 1.35}, {\"t\": 0.066, \"s\": 3.8}, {\"t\": 0.099, \"s\": 7.2}, {\"t\": 0.133, \"s\": 11.8}, {\"t\": 0.166, \"s\": 17.4}, {\"t\": 0.199, \"s\": 24.1}, {\"t\": 0.232, \"s\": 31.9}, {\"t\": 0.265, \"s\": 40.7}, {\"t\": 0.298, \"s\": 50.6}]}}, {\"mode\": \"vega-lite\"});\n",
              "</script>"
            ]
          },
          "metadata": {
            "tags": []
          },
          "execution_count": 45
        }
      ]
    },
    {
      "cell_type": "code",
      "metadata": {
        "id": "mKodu2NQC_9g",
        "outputId": "f3d9b3e2-038e-48dc-d4ff-d1aa0e09bbf8",
        "colab": {
          "base_uri": "https://localhost:8080/",
          "height": 369
        }
      },
      "source": [
        "velocity_prime = pd.DataFrame({\"delta_s\": [np.nan], \"v\": [0]})\n",
        "v_vs_t = position.join(pd.concat((velocity_prime, velocity)).reset_index())\n",
        "alt.Chart(\n",
        "    v_vs_t\n",
        ").mark_line(\n",
        ").encode(\n",
        "    x=alt.X(\"t\", title=\"Time (t)\"), y=alt.Y(\"v\", title=\"Velocity (v)\")\n",
        ")"
      ],
      "execution_count": 61,
      "outputs": [
        {
          "output_type": "execute_result",
          "data": {
            "text/plain": [
              "alt.Chart(...)"
            ],
            "text/html": [
              "\n",
              "<div id=\"altair-viz-50dc7bd8a112408e8c5f13f9749b56cf\"></div>\n",
              "<script type=\"text/javascript\">\n",
              "  (function(spec, embedOpt){\n",
              "    let outputDiv = document.currentScript.previousElementSibling;\n",
              "    if (outputDiv.id !== \"altair-viz-50dc7bd8a112408e8c5f13f9749b56cf\") {\n",
              "      outputDiv = document.getElementById(\"altair-viz-50dc7bd8a112408e8c5f13f9749b56cf\");\n",
              "    }\n",
              "    const paths = {\n",
              "      \"vega\": \"https://cdn.jsdelivr.net/npm//vega@5?noext\",\n",
              "      \"vega-lib\": \"https://cdn.jsdelivr.net/npm//vega-lib?noext\",\n",
              "      \"vega-lite\": \"https://cdn.jsdelivr.net/npm//vega-lite@4.8.1?noext\",\n",
              "      \"vega-embed\": \"https://cdn.jsdelivr.net/npm//vega-embed@6?noext\",\n",
              "    };\n",
              "\n",
              "    function loadScript(lib) {\n",
              "      return new Promise(function(resolve, reject) {\n",
              "        var s = document.createElement('script');\n",
              "        s.src = paths[lib];\n",
              "        s.async = true;\n",
              "        s.onload = () => resolve(paths[lib]);\n",
              "        s.onerror = () => reject(`Error loading script: ${paths[lib]}`);\n",
              "        document.getElementsByTagName(\"head\")[0].appendChild(s);\n",
              "      });\n",
              "    }\n",
              "\n",
              "    function showError(err) {\n",
              "      outputDiv.innerHTML = `<div class=\"error\" style=\"color:red;\">${err}</div>`;\n",
              "      throw err;\n",
              "    }\n",
              "\n",
              "    function displayChart(vegaEmbed) {\n",
              "      vegaEmbed(outputDiv, spec, embedOpt)\n",
              "        .catch(err => showError(`Javascript Error: ${err.message}<br>This usually means there's a typo in your chart specification. See the javascript console for the full traceback.`));\n",
              "    }\n",
              "\n",
              "    if(typeof define === \"function\" && define.amd) {\n",
              "      requirejs.config({paths});\n",
              "      require([\"vega-embed\"], displayChart, err => showError(`Error loading script: ${err.message}`));\n",
              "    } else if (typeof vegaEmbed === \"function\") {\n",
              "      displayChart(vegaEmbed);\n",
              "    } else {\n",
              "      loadScript(\"vega\")\n",
              "        .then(() => loadScript(\"vega-lite\"))\n",
              "        .then(() => loadScript(\"vega-embed\"))\n",
              "        .catch(showError)\n",
              "        .then(() => displayChart(vegaEmbed));\n",
              "    }\n",
              "  })({\"config\": {\"view\": {\"continuousWidth\": 400, \"continuousHeight\": 300}}, \"data\": {\"name\": \"data-b471974d9a73c4a8c5ba9ef49c783320\"}, \"mark\": \"line\", \"encoding\": {\"x\": {\"type\": \"quantitative\", \"field\": \"t\", \"title\": \"Time (t)\"}, \"y\": {\"type\": \"quantitative\", \"field\": \"v\", \"title\": \"Velocity (v)\"}}, \"$schema\": \"https://vega.github.io/schema/vega-lite/v4.8.1.json\", \"datasets\": {\"data-b471974d9a73c4a8c5ba9ef49c783320\": [{\"t\": 0.0, \"s\": 0.0, \"index\": 0, \"delta_s\": null, \"v\": 0.0}, {\"t\": 0.033, \"s\": 1.35, \"index\": 0, \"delta_s\": 1.35, \"v\": 40.90909090909091}, {\"t\": 0.066, \"s\": 3.8, \"index\": 1, \"delta_s\": 2.4499999999999997, \"v\": 74.24242424242424}, {\"t\": 0.099, \"s\": 7.2, \"index\": 2, \"delta_s\": 3.4000000000000004, \"v\": 103.03030303030303}, {\"t\": 0.133, \"s\": 11.8, \"index\": 3, \"delta_s\": 4.6000000000000005, \"v\": 139.3939393939394}, {\"t\": 0.166, \"s\": 17.4, \"index\": 4, \"delta_s\": 5.599999999999998, \"v\": 169.69696969696963}, {\"t\": 0.199, \"s\": 24.1, \"index\": 5, \"delta_s\": 6.700000000000003, \"v\": 203.03030303030312}, {\"t\": 0.232, \"s\": 31.9, \"index\": 6, \"delta_s\": 7.799999999999997, \"v\": 236.36363636363626}, {\"t\": 0.265, \"s\": 40.7, \"index\": 7, \"delta_s\": 8.800000000000004, \"v\": 266.6666666666668}, {\"t\": 0.298, \"s\": 50.6, \"index\": 8, \"delta_s\": 9.899999999999999, \"v\": 299.99999999999994}]}}, {\"mode\": \"vega-lite\"});\n",
              "</script>"
            ]
          },
          "metadata": {
            "tags": []
          },
          "execution_count": 61
        }
      ]
    },
    {
      "cell_type": "code",
      "metadata": {
        "id": "HG47pE9gDUs3",
        "outputId": "0d8c8239-9961-4328-f0db-ae68625e2476",
        "colab": {
          "base_uri": "https://localhost:8080/",
          "height": 363
        }
      },
      "source": [
        "v_vs_t"
      ],
      "execution_count": 62,
      "outputs": [
        {
          "output_type": "execute_result",
          "data": {
            "text/html": [
              "<div>\n",
              "<style scoped>\n",
              "    .dataframe tbody tr th:only-of-type {\n",
              "        vertical-align: middle;\n",
              "    }\n",
              "\n",
              "    .dataframe tbody tr th {\n",
              "        vertical-align: top;\n",
              "    }\n",
              "\n",
              "    .dataframe thead th {\n",
              "        text-align: right;\n",
              "    }\n",
              "</style>\n",
              "<table border=\"1\" class=\"dataframe\">\n",
              "  <thead>\n",
              "    <tr style=\"text-align: right;\">\n",
              "      <th></th>\n",
              "      <th>t</th>\n",
              "      <th>s</th>\n",
              "      <th>index</th>\n",
              "      <th>delta_s</th>\n",
              "      <th>v</th>\n",
              "    </tr>\n",
              "  </thead>\n",
              "  <tbody>\n",
              "    <tr>\n",
              "      <th>0</th>\n",
              "      <td>0.000</td>\n",
              "      <td>0.00</td>\n",
              "      <td>0</td>\n",
              "      <td>NaN</td>\n",
              "      <td>0.000000</td>\n",
              "    </tr>\n",
              "    <tr>\n",
              "      <th>1</th>\n",
              "      <td>0.033</td>\n",
              "      <td>1.35</td>\n",
              "      <td>0</td>\n",
              "      <td>1.35</td>\n",
              "      <td>40.909091</td>\n",
              "    </tr>\n",
              "    <tr>\n",
              "      <th>2</th>\n",
              "      <td>0.066</td>\n",
              "      <td>3.80</td>\n",
              "      <td>1</td>\n",
              "      <td>2.45</td>\n",
              "      <td>74.242424</td>\n",
              "    </tr>\n",
              "    <tr>\n",
              "      <th>3</th>\n",
              "      <td>0.099</td>\n",
              "      <td>7.20</td>\n",
              "      <td>2</td>\n",
              "      <td>3.40</td>\n",
              "      <td>103.030303</td>\n",
              "    </tr>\n",
              "    <tr>\n",
              "      <th>4</th>\n",
              "      <td>0.133</td>\n",
              "      <td>11.80</td>\n",
              "      <td>3</td>\n",
              "      <td>4.60</td>\n",
              "      <td>139.393939</td>\n",
              "    </tr>\n",
              "    <tr>\n",
              "      <th>5</th>\n",
              "      <td>0.166</td>\n",
              "      <td>17.40</td>\n",
              "      <td>4</td>\n",
              "      <td>5.60</td>\n",
              "      <td>169.696970</td>\n",
              "    </tr>\n",
              "    <tr>\n",
              "      <th>6</th>\n",
              "      <td>0.199</td>\n",
              "      <td>24.10</td>\n",
              "      <td>5</td>\n",
              "      <td>6.70</td>\n",
              "      <td>203.030303</td>\n",
              "    </tr>\n",
              "    <tr>\n",
              "      <th>7</th>\n",
              "      <td>0.232</td>\n",
              "      <td>31.90</td>\n",
              "      <td>6</td>\n",
              "      <td>7.80</td>\n",
              "      <td>236.363636</td>\n",
              "    </tr>\n",
              "    <tr>\n",
              "      <th>8</th>\n",
              "      <td>0.265</td>\n",
              "      <td>40.70</td>\n",
              "      <td>7</td>\n",
              "      <td>8.80</td>\n",
              "      <td>266.666667</td>\n",
              "    </tr>\n",
              "    <tr>\n",
              "      <th>9</th>\n",
              "      <td>0.298</td>\n",
              "      <td>50.60</td>\n",
              "      <td>8</td>\n",
              "      <td>9.90</td>\n",
              "      <td>300.000000</td>\n",
              "    </tr>\n",
              "  </tbody>\n",
              "</table>\n",
              "</div>"
            ],
            "text/plain": [
              "       t      s  index  delta_s           v\n",
              "0  0.000   0.00      0      NaN    0.000000\n",
              "1  0.033   1.35      0     1.35   40.909091\n",
              "2  0.066   3.80      1     2.45   74.242424\n",
              "3  0.099   7.20      2     3.40  103.030303\n",
              "4  0.133  11.80      3     4.60  139.393939\n",
              "5  0.166  17.40      4     5.60  169.696970\n",
              "6  0.199  24.10      5     6.70  203.030303\n",
              "7  0.232  31.90      6     7.80  236.363636\n",
              "8  0.265  40.70      7     8.80  266.666667\n",
              "9  0.298  50.60      8     9.90  300.000000"
            ]
          },
          "metadata": {
            "tags": []
          },
          "execution_count": 62
        }
      ]
    },
    {
      "cell_type": "code",
      "metadata": {
        "id": "Kc8SwuUVD6KB",
        "outputId": "16b269a6-ee83-4c34-f36d-f622a73e44e7",
        "colab": {
          "base_uri": "https://localhost:8080/",
          "height": 34
        }
      },
      "source": [
        "from sklearn.linear_model import LinearRegression\n",
        "model = LinearRegression()\n",
        "\n",
        "model.fit(v_vs_t.t.values.reshape(-1, 1), v_vs_t.v)\n",
        "\n",
        "print(f\"Slope of line of best fit: {model.coef_[0]}\")"
      ],
      "execution_count": 70,
      "outputs": [
        {
          "output_type": "stream",
          "text": [
            "Slope of line of best fit: 991.2646120415806\n"
          ],
          "name": "stdout"
        }
      ]
    },
    {
      "cell_type": "code",
      "metadata": {
        "id": "E9uVjQyHPd9U",
        "outputId": "9481c1cf-e643-43fe-f133-fa52fa4f025f",
        "colab": {
          "base_uri": "https://localhost:8080/",
          "height": 34
        }
      },
      "source": [
        "dir(model)\n",
        "\n",
        "model.coef_"
      ],
      "execution_count": 67,
      "outputs": [
        {
          "output_type": "execute_result",
          "data": {
            "text/plain": [
              "array([991.26461204])"
            ]
          },
          "metadata": {
            "tags": []
          },
          "execution_count": 67
        }
      ]
    },
    {
      "cell_type": "code",
      "metadata": {
        "id": "3Qr9HRzuPmGB"
      },
      "source": [
        ""
      ],
      "execution_count": null,
      "outputs": []
    }
  ]
}